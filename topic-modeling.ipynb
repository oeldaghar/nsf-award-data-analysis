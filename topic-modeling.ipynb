{
 "cells": [
  {
   "attachments": {},
   "cell_type": "markdown",
   "metadata": {},
   "source": [
    "### Topic Modeling"
   ]
  },
  {
   "cell_type": "code",
   "execution_count": 171,
   "metadata": {},
   "outputs": [],
   "source": [
    "#load libraries\n",
    "import pandas as pd\n",
    "import numpy as np\n",
    "\n",
    "# NLTK\n",
    "from nltk.tokenize import RegexpTokenizer\n",
    "from nltk.corpus import stopwords\n",
    "from nltk.stem.wordnet import WordNetLemmatizer\n",
    "\n",
    "# Gensim\n",
    "from gensim.models import LdaModel\n",
    "from gensim.models import LdaSeqModel\n",
    "from gensim.models.phrases import Phrases, Phraser\n",
    "from gensim.corpora import Dictionary\n",
    "\n",
    "#for plotting\n",
    "import matplotlib.pyplot as plt\n"
   ]
  },
  {
   "cell_type": "code",
   "execution_count": 54,
   "metadata": {},
   "outputs": [],
   "source": [
    "import logging\n",
    "#for checking convergence of model\n",
    "logging.basicConfig(format='%(asctime)s : %(levelname)s : %(message)s', level=logging.DEBUG)\n",
    "#\n",
    "# logging.basicConfig(format='%(asctime)s : %(levelname)s : %(message)s', level=logging.WARNING)"
   ]
  },
  {
   "cell_type": "code",
   "execution_count": 4,
   "metadata": {},
   "outputs": [
    {
     "name": "stdout",
     "output_type": "stream",
     "text": [
      "  award_id                                              title    amount  \\\n",
      "0  0000009     Design of Cutting Tools for High Speed Milling  280000.0   \n",
      "1  0000026  A Novel Ultrasonic Cooling Concept for Microel...  292026.0   \n",
      "2  0000027  Development of a Wireless Sensor to Detect Cra...  238000.0   \n",
      "3  0000031  Development of Link-to-Column Connections for ...  285000.0   \n",
      "4  0000033  Integrated study of source, path, and site eff...   84000.0   \n",
      "\n",
      "                                            abstract  \\\n",
      "0  this project will focus development new cuttin...   \n",
      "1  the purpose the proposed work design novel coo...   \n",
      "2  &lt;br/&gt;the objective this research project...   \n",
      "3  &lt;br/&gt;engelhardt&lt;br/&gt;the objective ...   \n",
      "4  the kocaeli, turkey, earthquake (m=.) august w...   \n",
      "\n",
      "                                   division  \n",
      "0  Div Of Civil, Mechanical, & Manufact Inn  \n",
      "1     Div Of Electrical, Commun & Cyber Sys  \n",
      "2  Div Of Civil, Mechanical, & Manufact Inn  \n",
      "3  Div Of Civil, Mechanical, & Manufact Inn  \n",
      "4  Div Of Civil, Mechanical, & Manufact Inn  \n",
      "shape is: (232112, 5)\n"
     ]
    }
   ],
   "source": [
    "#load cleaned data from csv\n",
    "df = pd.read_csv('data/cleaned_data.csv',dtype=str)\n",
    "df['amount'].astype(float, errors='ignore')\n",
    "\n",
    "print(df.head(5))\n",
    "print(f\"shape is: {df.shape}\")"
   ]
  },
  {
   "cell_type": "code",
   "execution_count": 5,
   "metadata": {},
   "outputs": [
    {
     "data": {
      "text/plain": [
       "Division Of Mathematical Sciences                          18567\n",
       "Translational Impacts                                      12728\n",
       "Division Of Computer and Network Systems                   12199\n",
       "Div Of Civil, Mechanical, & Manufact Inn                   11904\n",
       "Division Of Earth Sciences                                 11573\n",
       "                                                           ...  \n",
       "Division Of Design & Manufacturing Innov                       1\n",
       "Division Of Polar Progrms                                      1\n",
       "Division of Polar Programs                                     1\n",
       "Office Of The Director                                         1\n",
       "National Center for Science and Engineering Statistics.        1\n",
       "Name: division, Length: 73, dtype: int64"
      ]
     },
     "execution_count": 5,
     "metadata": {},
     "output_type": "execute_result"
    }
   ],
   "source": [
    "df['division'].value_counts()"
   ]
  },
  {
   "cell_type": "code",
   "execution_count": 6,
   "metadata": {},
   "outputs": [],
   "source": [
    "#zoom in on one division\n",
    "division = 'Div Of Civil, Mechanical, & Manufact Inn'\n",
    "# division = 'Division Of Mathematical Sciences'\n",
    "\n",
    "#filter data by division\n",
    "data = df[df['division']==division]"
   ]
  },
  {
   "cell_type": "code",
   "execution_count": 7,
   "metadata": {},
   "outputs": [
    {
     "name": "stderr",
     "output_type": "stream",
     "text": [
      "<ipython-input-7-3b36e28d5732>:2: SettingWithCopyWarning: \n",
      "A value is trying to be set on a copy of a slice from a DataFrame.\n",
      "Try using .loc[row_indexer,col_indexer] = value instead\n",
      "\n",
      "See the caveats in the documentation: https://pandas.pydata.org/pandas-docs/stable/user_guide/indexing.html#returning-a-view-versus-a-copy\n",
      "  data['year'] = data.loc[:,\"award_id\"].apply(lambda x: f\"20{x[:2]}\")\n"
     ]
    }
   ],
   "source": [
    "#add year column\n",
    "data['year'] = data.loc[:,\"award_id\"].apply(lambda x: f\"20{x[:2]}\")"
   ]
  },
  {
   "cell_type": "code",
   "execution_count": 8,
   "metadata": {},
   "outputs": [],
   "source": [
    "#reset index\n",
    "data.reset_index(inplace=True,drop=True)"
   ]
  },
  {
   "cell_type": "code",
   "execution_count": 19,
   "metadata": {},
   "outputs": [],
   "source": [
    "#sample 10 documents from each year and sort data by year\n",
    "data = data.groupby('year').apply(lambda x: x.sample(10,random_state=42)).reset_index(drop=True)\n",
    "data.sort_values(by='year',inplace=True)"
   ]
  },
  {
   "attachments": {},
   "cell_type": "markdown",
   "metadata": {},
   "source": [
    "We will preprocess the entire corpus and handle the representation (BoW) in a single go. That way, we won't have to worry about inconsistent representations among models."
   ]
  },
  {
   "cell_type": "code",
   "execution_count": 21,
   "metadata": {},
   "outputs": [],
   "source": [
    "#convert to list\n",
    "text_data = data['abstract'].tolist()"
   ]
  },
  {
   "cell_type": "code",
   "execution_count": 22,
   "metadata": {},
   "outputs": [],
   "source": [
    "# Split the documents into tokens.\n",
    "tokenizer = RegexpTokenizer(r'\\w+')\n",
    "for idx in range(len(text_data)):\n",
    "    text_data[idx] = text_data[idx].lower()  \n",
    "    text_data[idx] = tokenizer.tokenize(text_data[idx])  # Split into words.\n",
    "\n",
    "#remove numbers\n",
    "text_data = [[token for token in doc if not token.isnumeric()] for doc in text_data]\n",
    "\n",
    "#remove words that are only one character.\n",
    "text_data = [[token for token in doc if len(token) > 1] for doc in text_data]"
   ]
  },
  {
   "cell_type": "code",
   "execution_count": 23,
   "metadata": {},
   "outputs": [
    {
     "name": "stdout",
     "output_type": "stream",
     "text": [
      "['lt', 'br', 'gt', 'the', 'objective', 'the', 'research', 'define', 'and', 'conduct', 'experiments', 'thin', 'walled', 'polymer', 'matrix', 'composite', 'pmc', 'tubular', 'specimens', 'having', 'continuous', 'reinforcement', 'fibers', 'methodology', 'for']\n"
     ]
    }
   ],
   "source": [
    "#look at first document\n",
    "print(text_data[0][:25])"
   ]
  },
  {
   "cell_type": "code",
   "execution_count": 24,
   "metadata": {},
   "outputs": [],
   "source": [
    "lemmatizer = WordNetLemmatizer()\n",
    "text_data = [[lemmatizer.lemmatize(token) for token in doc] for doc in text_data]"
   ]
  },
  {
   "cell_type": "code",
   "execution_count": 25,
   "metadata": {},
   "outputs": [],
   "source": [
    "#remove stop words\n",
    "stop_words = stopwords.words('english')\n",
    "\n",
    "#extend stop words to corpus specific words\n",
    "extra_stop_words = ['award','project','research',\n",
    "                    'investigator','investigators',\n",
    "                    'investigate','investigates','investigated','investigating',\n",
    "                    'proposal','proposals','abstract',\n",
    "                    'nsf','funded','funding',\n",
    "                    'program','programs',\n",
    "                    'support','supports','supported',\n",
    "                    'br','lt','gt','amp','quot','div','lf', #html tags\n",
    "                    'pi','pis', #principal investigator]\n",
    "                    'researcher','researchers',\n",
    "                    'work','works','working',\n",
    "                    'study','studies','studying',\n",
    "                    'develop','develops','developed','developing','development',\n",
    "                    'consider','considered','considering',\n",
    "                    'include','includes','including',\n",
    "                    'provide','provides','provided',\n",
    "                    'use','uses','used',\n",
    "                    'design','designs','designed','designing',\n",
    "                    'demonstrate','demonstrates','demonstrated','demonstrating',\n",
    "                    'result','results','resulted','resulting',\n",
    "                    'show','shows','showed','showing',\n",
    "                    'understand','understands','understood','understanding',\n",
    "                    'determine','determines','determined','determining',\n",
    "                    'find','finds','found','finding',\n",
    "                    'identify','identifies','identified','identifying',\n",
    "                    'evaluate','evaluates','evaluated','evaluating',\n",
    "                    'examine','examines','examined','examining',\n",
    "                    'explore','explores','explored','exploring',\n",
    "                    'new','using','high','low','large','small','different','based',\n",
    "                    'significant','important','possible','potential','novel',\n",
    "                    'approach','approaches','approached','approaching',\n",
    "                    'method','methods',\n",
    "                    'include','includes','including',\n",
    "                    'also','well','many','much','several','various','different',\n",
    "                    'engineering','engineer','engineers','engineered',\n",
    "                    'system','systems','systematic',\n",
    "                    'model','models','modeling','modelled','modelled',\n",
    "                    'analysis','analyse','analyses','analysed','analysing',\n",
    "                    'method','methods','methodology','methodologies',\n",
    "                    'specific','specifically',\n",
    "                    'impact','impacts','impacted','impacting',\n",
    "                    'profound','profoundly',\n",
    "                    'significant','significantly',\n",
    "                    'although','though','however','yet','still','nevertheless',\n",
    "                    'thus','therefore','hence','consequently',\n",
    "                    'first','second','third','fourth','fifth','sixth','seventh','eighth','ninth','tenth',\n",
    "                    'have','has','having','had','ha',\n",
    "                    'problem','problems',\n",
    "                    'science','sciences','scientific',\n",
    "                    'scientist','scientists',\n",
    "                    'knowledge','knowledges','knowledgable',\n",
    "]\n",
    "stop_words.extend(extra_stop_words)\n",
    "\n",
    "#much faster to convert to set\n",
    "stop_words = set(stop_words)"
   ]
  },
  {
   "cell_type": "code",
   "execution_count": 26,
   "metadata": {},
   "outputs": [],
   "source": [
    "#remove stop words\n",
    "text_data = [[token for token in doc if token not in stop_words] for doc in text_data]"
   ]
  },
  {
   "cell_type": "code",
   "execution_count": 27,
   "metadata": {},
   "outputs": [
    {
     "name": "stdout",
     "output_type": "stream",
     "text": [
      "['complex', 'distributed', 'current', 'emerging', 'control', 'application', 'need', 'structure', 'overall', 'control', 'scheme', 'structure', 'motivated', 'number', 'practical', 'reason', 'among', 'cost', 'reliability', 'constrain', 'individual', 'local', 'station', 'interacts', 'overall', 'part', 'information', 'access', 'communication', 'mechanism', 'place', 'control', 'optimal', 'performance', 'structural', 'constraint', 'resent', 'remains', 'open', 'challenge', 'control', 'community', 'recent', 'preliminary', 'principal', 'exposed', 'rich', 'array', 'class', 'proposed', 'nature', 'limitation', 'control', 'performance', 'presence', 'interaction', 'information', 'transmission', 'constraint', 'effective', 'control', 'synthesis', 'addition', 'theoretical', 'algorithmic', 'major', 'objective', 'proposed', 'utilize', 'structured', 'control', 'imaging', 'technology', 'utilize', 'micro', 'cantilever', 'particularly', 'context', 'atomic', 'force', 'microscopy', 'apart', 'theoretical', 'practical', 'aspect', 'proposed', 'relevant', 'two', 'hundred', 'million', 'dollar', 'scanning', 'probe', 'industry', 'experimental', 'facility', 'available', 'related', 'industry', 'effectiveness', 'proposed', 'aspect', 'together', 'close', 'tie', 'scanning', 'probe', 'industry', 'spur', 'transfer', 'know', 'technology', 'industry']\n"
     ]
    }
   ],
   "source": [
    "print(text_data[35])"
   ]
  },
  {
   "cell_type": "code",
   "execution_count": 28,
   "metadata": {},
   "outputs": [],
   "source": [
    "#look at most frequent words in data\n",
    "from collections import Counter\n",
    "from itertools import chain\n",
    "from nltk import FreqDist\n",
    "\n",
    "#flatten list of lists\n",
    "all_words = list(chain(*text_data))\n"
   ]
  },
  {
   "cell_type": "code",
   "execution_count": 29,
   "metadata": {},
   "outputs": [],
   "source": [
    "all_words_freq = FreqDist(all_words)"
   ]
  },
  {
   "cell_type": "code",
   "execution_count": 30,
   "metadata": {},
   "outputs": [
    {
     "data": {
      "image/png": "[encoded data removed]",
      "text/plain": [
       "<Figure size 720x576 with 1 Axes>"
      ]
     },
     "metadata": {
      "needs_background": "light"
     },
     "output_type": "display_data"
    }
   ],
   "source": [
    "#plot most frequent words\n",
    "plt.figure(figsize=(10,8))\n",
    "all_words_freq.plot(30, cumulative=False)\n",
    "\n",
    "#increase font size for plot\n",
    "plt.rcParams.update({'font.size': 15})"
   ]
  },
  {
   "cell_type": "code",
   "execution_count": 31,
   "metadata": {},
   "outputs": [
    {
     "name": "stderr",
     "output_type": "stream",
     "text": [
      "c:\\Users\\samael\\AppData\\Local\\Programs\\Python\\Python39\\lib\\site-packages\\gensim\\models\\phrases.py:598: UserWarning: For a faster implementation, use the gensim.models.phrases.Phraser class\n",
      "  warnings.warn(\"For a faster implementation, use the gensim.models.phrases.Phraser class\")\n"
     ]
    }
   ],
   "source": [
    "#bigrams and trigrams. let's us capture useful phrases such as 'machine_learning' or 'quantum_computing'\n",
    "bigram = Phrases(text_data, min_count=5, threshold=50) \n",
    "trigram = Phrases(bigram[text_data], threshold=50) \n",
    "\n",
    "# exporting trained models for bigrams and trigrams. faster.\n",
    "bigram_mod = Phraser(bigram)\n",
    "trigram_mod = Phraser(trigram)\n"
   ]
  },
  {
   "cell_type": "code",
   "execution_count": 37,
   "metadata": {},
   "outputs": [
    {
     "name": "stdout",
     "output_type": "stream",
     "text": [
      "['multi_disciplinary', 'united_state', 'full_scale', 'multi_disciplinary']\n",
      "['multi_disciplinary', 'full_scale', 'multi_disciplinary']\n"
     ]
    }
   ],
   "source": [
    "#see example of bigrams + trigrams\n",
    "print([x for x in bigram_mod[text_data[7]] if '_' in x])\n",
    "\n",
    "print([x for x in trigram_mod[text_data[7]] if '_' in x])"
   ]
  },
  {
   "cell_type": "code",
   "execution_count": 38,
   "metadata": {},
   "outputs": [],
   "source": [
    "# Create a dictionary representation of the documents.\n",
    "dictionary = Dictionary(text_data)\n",
    "\n",
    "# Filter out words that occur less than 20 documents, or more than 50% of the documents.\n",
    "dictionary.filter_extremes(no_below=20, no_above=0.5)"
   ]
  },
  {
   "cell_type": "code",
   "execution_count": 39,
   "metadata": {},
   "outputs": [],
   "source": [
    "# Bag-of-words representation of the documents.\n",
    "corpus = [dictionary.doc2bow(doc) for doc in text_data]"
   ]
  },
  {
   "cell_type": "code",
   "execution_count": 40,
   "metadata": {},
   "outputs": [
    {
     "name": "stdout",
     "output_type": "stream",
     "text": [
      "Number of unique tokens: 265\n",
      "Number of documents: 220\n"
     ]
    }
   ],
   "source": [
    "print('Number of unique tokens: %d' % len(dictionary))\n",
    "print('Number of documents: %d' % len(corpus))"
   ]
  },
  {
   "cell_type": "code",
   "execution_count": 50,
   "metadata": {},
   "outputs": [],
   "source": [
    "# Make an index to word dictionary.\n",
    "temp = dictionary[0]  # This is only to \"load\" the dictionary.\n",
    "id2word = dictionary.id2token"
   ]
  },
  {
   "cell_type": "code",
   "execution_count": 46,
   "metadata": {},
   "outputs": [
    {
     "data": {
      "text/plain": [
       "22"
      ]
     },
     "execution_count": 46,
     "metadata": {},
     "output_type": "execute_result"
    }
   ],
   "source": []
  },
  {
   "cell_type": "code",
   "execution_count": 55,
   "metadata": {},
   "outputs": [],
   "source": [
    "ntopics = 10\n",
    "#train model on portion of the corpus\n",
    "def train_model(corpus, id2word, num_topics=ntopics,):\n",
    "    lda = LdaSeqModel(\n",
    "            corpus=corpus,\n",
    "            time_slice=[10 for i in range(len(data.year.unique()))],\n",
    "            id2word=id2word,\n",
    "            chunksize=50,\n",
    "            num_topics=num_topics,\n",
    "            passes=5,\n",
    "            lda_inference_max_iter=5,\n",
    "        )\n",
    "    return lda"
   ]
  },
  {
   "cell_type": "code",
   "execution_count": 56,
   "metadata": {},
   "outputs": [
    {
     "name": "stderr",
     "output_type": "stream",
     "text": [
      "2024-01-25 15:43:27,819 : WARNING : too few updates, training might not converge; consider increasing the number of passes or iterations to improve accuracy\n"
     ]
    },
    {
     "name": "stderr",
     "output_type": "stream",
     "text": [
      "c:\\Users\\samael\\AppData\\Local\\Programs\\Python\\Python39\\lib\\site-packages\\gensim\\models\\ldaseqmodel.py:290: RuntimeWarning: divide by zero encountered in double_scalars\n",
      "  convergence = np.fabs((bound - old_bound) / old_bound)\n"
     ]
    }
   ],
   "source": [
    "model = train_model(corpus,id2word,num_topics=ntopics)"
   ]
  },
  {
   "cell_type": "code",
   "execution_count": 183,
   "metadata": {},
   "outputs": [],
   "source": [
    "model.save('models/lda_seq_model_10topics.model') # Save model to disk."
   ]
  },
  {
   "cell_type": "code",
   "execution_count": 185,
   "metadata": {},
   "outputs": [],
   "source": [
    "# Load a potentially pre-trained model from disk. #needs some testing for dictionary, corpus, and id2word\n",
    "test_model = LdaSeqModel.load('models/lda_seq_model_10topics.model')"
   ]
  },
  {
   "cell_type": "code",
   "execution_count": 190,
   "metadata": {},
   "outputs": [
    {
     "data": {
      "text/plain": [
       "True"
      ]
     },
     "execution_count": 190,
     "metadata": {},
     "output_type": "execute_result"
    }
   ],
   "source": [
    "(model.doc_topics(0)==test_model.doc_topics(0)).all()"
   ]
  },
  {
   "cell_type": "code",
   "execution_count": 93,
   "metadata": {},
   "outputs": [
    {
     "data": {
      "text/plain": [
       "[[('simulation', 0.06352394746822891),\n",
       "  ('framework', 0.03652212222700615),\n",
       "  ('workshop', 0.0341913916853499),\n",
       "  ('optimization', 0.03328908375364188),\n",
       "  ('proposed', 0.030018489898984143),\n",
       "  ('theory', 0.02960116034801896),\n",
       "  ('computational', 0.027985073512027697),\n",
       "  ('complex', 0.020252192133691876),\n",
       "  ('space', 0.019226693232912623),\n",
       "  ('solution', 0.01857567291576981),\n",
       "  ('type', 0.01786720329586709),\n",
       "  ('mathematical', 0.01750940976542643),\n",
       "  ('performance', 0.016944609495230988),\n",
       "  ('resource', 0.016914789425556184),\n",
       "  ('theoretical', 0.015629313730677476),\n",
       "  ('expected', 0.015272151066574213),\n",
       "  ('one', 0.015250967723408906),\n",
       "  ('technique', 0.015224722521532128),\n",
       "  ('via', 0.014764776391471906),\n",
       "  ('example', 0.014485221141370104)],\n",
       " [('simulation', 0.06310755236308015),\n",
       "  ('framework', 0.03625005709077059),\n",
       "  ('workshop', 0.03454257575816044),\n",
       "  ('optimization', 0.03362779508678485),\n",
       "  ('proposed', 0.030120537509235427),\n",
       "  ('theory', 0.02960072249503139),\n",
       "  ('computational', 0.027821101459173114),\n",
       "  ('complex', 0.02033371104316243),\n",
       "  ('space', 0.019339184795050274),\n",
       "  ('solution', 0.018529371000455847),\n",
       "  ('type', 0.01782610683305651),\n",
       "  ('mathematical', 0.017359005424092504),\n",
       "  ('resource', 0.01700165042057523),\n",
       "  ('performance', 0.01695977921543956),\n",
       "  ('theoretical', 0.015581801278729207),\n",
       "  ('expected', 0.015342637057516064),\n",
       "  ('one', 0.015276955488978146),\n",
       "  ('technique', 0.015247963975739744),\n",
       "  ('via', 0.014830695943827743),\n",
       "  ('example', 0.014544980307905834)],\n",
       " [('simulation', 0.06307128246114285),\n",
       "  ('framework', 0.03611004963444212),\n",
       "  ('workshop', 0.034355215951059906),\n",
       "  ('optimization', 0.034073834001152624),\n",
       "  ('proposed', 0.030027346466457796),\n",
       "  ('theory', 0.02962059941686373),\n",
       "  ('computational', 0.02771804587425966),\n",
       "  ('complex', 0.020376176738180603),\n",
       "  ('space', 0.019491035844321148),\n",
       "  ('solution', 0.018508362195655124),\n",
       "  ('type', 0.017816022736305944),\n",
       "  ('mathematical', 0.01717757136408454),\n",
       "  ('resource', 0.01705038427476902),\n",
       "  ('performance', 0.017003144985232345),\n",
       "  ('theoretical', 0.015557091375531816),\n",
       "  ('expected', 0.015435988632373276),\n",
       "  ('one', 0.015304329640235313),\n",
       "  ('technique', 0.01529582731200029),\n",
       "  ('via', 0.014917450263640806),\n",
       "  ('example', 0.014496301633276993)],\n",
       " [('simulation', 0.06378365311267777),\n",
       "  ('framework', 0.0362138074375535),\n",
       "  ('optimization', 0.03474302473217698),\n",
       "  ('workshop', 0.0341294597778629),\n",
       "  ('proposed', 0.029711284596216928),\n",
       "  ('theory', 0.029546315740214348),\n",
       "  ('computational', 0.027748996451593785),\n",
       "  ('complex', 0.02036864412281666),\n",
       "  ('space', 0.019619591067292816),\n",
       "  ('solution', 0.018490807214383072),\n",
       "  ('type', 0.01777530409077474),\n",
       "  ('resource', 0.017129141500486278),\n",
       "  ('performance', 0.01698073741160835),\n",
       "  ('mathematical', 0.016890196657796144),\n",
       "  ('expected', 0.015534828503483093),\n",
       "  ('theoretical', 0.015497043632267296),\n",
       "  ('technique', 0.015334498173678435),\n",
       "  ('one', 0.015304983256212233),\n",
       "  ('via', 0.015010265280285139),\n",
       "  ('example', 0.014473576919396429)],\n",
       " [('simulation', 0.06458545579883916),\n",
       "  ('framework', 0.036472989300742574),\n",
       "  ('optimization', 0.0355715357491097),\n",
       "  ('workshop', 0.03403021202029846),\n",
       "  ('theory', 0.02942640907094719),\n",
       "  ('proposed', 0.02916710696564808),\n",
       "  ('computational', 0.0278704678491432),\n",
       "  ('complex', 0.020349761345460394),\n",
       "  ('space', 0.01978953394772003),\n",
       "  ('solution', 0.018510239189867186),\n",
       "  ('type', 0.017551809181202277),\n",
       "  ('resource', 0.017235516548487487),\n",
       "  ('performance', 0.016933703043183482),\n",
       "  ('mathematical', 0.016633608913238687),\n",
       "  ('expected', 0.015606672172387771),\n",
       "  ('technique', 0.015400733691637475),\n",
       "  ('theoretical', 0.015367637055155377),\n",
       "  ('one', 0.015282127877497607),\n",
       "  ('via', 0.01512565297985668),\n",
       "  ('example', 0.014473362980565608)],\n",
       " [('simulation', 0.06538852605067755),\n",
       "  ('framework', 0.03688448036092923),\n",
       "  ('optimization', 0.036567248533937405),\n",
       "  ('workshop', 0.03407598484401015),\n",
       "  ('theory', 0.029390598580763802),\n",
       "  ('proposed', 0.028461033000225025),\n",
       "  ('computational', 0.02808398912700584),\n",
       "  ('complex', 0.020365773592613535),\n",
       "  ('space', 0.019910658095811013),\n",
       "  ('solution', 0.018197967049400774),\n",
       "  ('resource', 0.017375688573551228),\n",
       "  ('type', 0.017362044166140865),\n",
       "  ('performance', 0.016917982991224004),\n",
       "  ('mathematical', 0.016343740658889664),\n",
       "  ('expected', 0.01565339928793826),\n",
       "  ('technique', 0.015442590800436196),\n",
       "  ('via', 0.01526771128677548),\n",
       "  ('theoretical', 0.015263240428054606),\n",
       "  ('one', 0.015234990319471897),\n",
       "  ('example', 0.014425718690630446)],\n",
       " [('simulation', 0.06471837169201591),\n",
       "  ('optimization', 0.037895312037161746),\n",
       "  ('framework', 0.03703642409596396),\n",
       "  ('workshop', 0.03447328152381161),\n",
       "  ('theory', 0.02896154462814108),\n",
       "  ('computational', 0.028323671456097897),\n",
       "  ('proposed', 0.027578358501561838),\n",
       "  ('complex', 0.020446405889847977),\n",
       "  ('space', 0.020164092235915736),\n",
       "  ('solution', 0.017912519225136148),\n",
       "  ('resource', 0.01762352189289914),\n",
       "  ('type', 0.017280642189121932),\n",
       "  ('performance', 0.01691047359178961),\n",
       "  ('mathematical', 0.016147606099530254),\n",
       "  ('expected', 0.015711966580736807),\n",
       "  ('technique', 0.01552006222324453),\n",
       "  ('via', 0.015364517796271281),\n",
       "  ('theoretical', 0.015178226636407494),\n",
       "  ('one', 0.015176880913375426),\n",
       "  ('number', 0.014316961010432077)],\n",
       " [('simulation', 0.06437046821087196),\n",
       "  ('optimization', 0.03887975455551641),\n",
       "  ('framework', 0.03759411847104919),\n",
       "  ('workshop', 0.03523793036806798),\n",
       "  ('computational', 0.028703201591980265),\n",
       "  ('theory', 0.028634741451907905),\n",
       "  ('proposed', 0.026747897721808044),\n",
       "  ('complex', 0.020557095501289105),\n",
       "  ('space', 0.02043887121447906),\n",
       "  ('solution', 0.017717264050189068),\n",
       "  ('resource', 0.017368874993619672),\n",
       "  ('type', 0.01728166308664565),\n",
       "  ('performance', 0.01678066568000062),\n",
       "  ('mathematical', 0.016022671500879222),\n",
       "  ('expected', 0.015619060789966666),\n",
       "  ('technique', 0.0155993830768095),\n",
       "  ('via', 0.015448885716364793),\n",
       "  ('theoretical', 0.015152805530882016),\n",
       "  ('one', 0.015132734634782638),\n",
       "  ('number', 0.014255211443358042)],\n",
       " [('simulation', 0.06583489773924349),\n",
       "  ('optimization', 0.040377470657445944),\n",
       "  ('framework', 0.03800906432548133),\n",
       "  ('workshop', 0.034270302774757504),\n",
       "  ('computational', 0.029229501987763),\n",
       "  ('theory', 0.028645135983307913),\n",
       "  ('proposed', 0.025525374075099222),\n",
       "  ('space', 0.020878213347713698),\n",
       "  ('complex', 0.020722308798610582),\n",
       "  ('solution', 0.017633605687453622),\n",
       "  ('type', 0.01722080855384718),\n",
       "  ('resource', 0.017186369497687547),\n",
       "  ('performance', 0.016623267815458545),\n",
       "  ('mathematical', 0.015991166417309636),\n",
       "  ('technique', 0.015548725232207844),\n",
       "  ('via', 0.015471352283124254),\n",
       "  ('expected', 0.01545513817652261),\n",
       "  ('theoretical', 0.015210623315606499),\n",
       "  ('one', 0.015072007838019544),\n",
       "  ('number', 0.014021975387515864)],\n",
       " [('simulation', 0.06737015627101679),\n",
       "  ('optimization', 0.041919872171047916),\n",
       "  ('framework', 0.038433949816305234),\n",
       "  ('workshop', 0.03333091378401908),\n",
       "  ('computational', 0.029758419140457536),\n",
       "  ('theory', 0.02865364532459068),\n",
       "  ('proposed', 0.024337170248580547),\n",
       "  ('space', 0.021323495947366686),\n",
       "  ('complex', 0.02088665450189035),\n",
       "  ('solution', 0.017549743619994767),\n",
       "  ('type', 0.01710293164272346),\n",
       "  ('resource', 0.017005367500068567),\n",
       "  ('performance', 0.01646428615385504),\n",
       "  ('mathematical', 0.01595878240392406),\n",
       "  ('technique', 0.015497528596231904),\n",
       "  ('via', 0.015491233665243952),\n",
       "  ('expected', 0.015289904818780852),\n",
       "  ('theoretical', 0.015266809942932788),\n",
       "  ('one', 0.015003464210055328),\n",
       "  ('number', 0.013790617883262116)],\n",
       " [('simulation', 0.0679582522397016),\n",
       "  ('optimization', 0.043242988796301285),\n",
       "  ('framework', 0.039094803164417435),\n",
       "  ('workshop', 0.032837294154193536),\n",
       "  ('computational', 0.030366762737310194),\n",
       "  ('theory', 0.028306328326194587),\n",
       "  ('proposed', 0.0233755835829806),\n",
       "  ('space', 0.021775516715111343),\n",
       "  ('complex', 0.02102462389507377),\n",
       "  ('solution', 0.017539156872499687),\n",
       "  ('type', 0.0170814564488815),\n",
       "  ('resource', 0.0169380836836434),\n",
       "  ('performance', 0.016247967899528613),\n",
       "  ('mathematical', 0.015888984798919314),\n",
       "  ('via', 0.015607710726744066),\n",
       "  ('technique', 0.015545962721257033),\n",
       "  ('theoretical', 0.015264658550902626),\n",
       "  ('expected', 0.015218982925058442),\n",
       "  ('one', 0.015000457590229083),\n",
       "  ('number', 0.013637843679632066)],\n",
       " [('simulation', 0.06858638650902461),\n",
       "  ('optimization', 0.04504726077209724),\n",
       "  ('framework', 0.04031576303279557),\n",
       "  ('workshop', 0.03180728270670895),\n",
       "  ('computational', 0.03073386505694703),\n",
       "  ('theory', 0.02762319771419061),\n",
       "  ('proposed', 0.022522206385417704),\n",
       "  ('space', 0.021854206940209786),\n",
       "  ('complex', 0.020868079661726095),\n",
       "  ('solution', 0.01759497296683166),\n",
       "  ('type', 0.017104627173629074),\n",
       "  ('resource', 0.016898144858240115),\n",
       "  ('performance', 0.01605850115240939),\n",
       "  ('mathematical', 0.015856002639285695),\n",
       "  ('via', 0.015767650658773887),\n",
       "  ('technique', 0.015593924065011233),\n",
       "  ('theoretical', 0.015221088017943767),\n",
       "  ('expected', 0.015172750485590535),\n",
       "  ('one', 0.015050204921409958),\n",
       "  ('number', 0.013565788918616626)],\n",
       " [('simulation', 0.06952637682079416),\n",
       "  ('optimization', 0.046618294423130056),\n",
       "  ('framework', 0.04156781424628244),\n",
       "  ('computational', 0.03116301615559706),\n",
       "  ('workshop', 0.03074085965593025),\n",
       "  ('theory', 0.02692099271273882),\n",
       "  ('space', 0.021771318817787943),\n",
       "  ('proposed', 0.02172701708901844),\n",
       "  ('complex', 0.020738528846735958),\n",
       "  ('solution', 0.017671156964627514),\n",
       "  ('type', 0.01712389085086315),\n",
       "  ('resource', 0.016875027285295198),\n",
       "  ('via', 0.015885663685847755),\n",
       "  ('performance', 0.015869267181706035),\n",
       "  ('mathematical', 0.015838216477953335),\n",
       "  ('technique', 0.01565041603243985),\n",
       "  ('theoretical', 0.015191208276980797),\n",
       "  ('expected', 0.015138235500689707),\n",
       "  ('one', 0.015076786525579682),\n",
       "  ('number', 0.01350533629714713)],\n",
       " [('simulation', 0.06901081663597217),\n",
       "  ('optimization', 0.047919944836633595),\n",
       "  ('framework', 0.04349039797306294),\n",
       "  ('computational', 0.03183129714600896),\n",
       "  ('workshop', 0.030034701847724686),\n",
       "  ('theory', 0.026372985437701526),\n",
       "  ('space', 0.021843384276783905),\n",
       "  ('proposed', 0.021126082708496273),\n",
       "  ('complex', 0.020715669705325027),\n",
       "  ('solution', 0.017625704148823442),\n",
       "  ('type', 0.0171617354362022),\n",
       "  ('resource', 0.016949632933680812),\n",
       "  ('mathematical', 0.01590684760844004),\n",
       "  ('via', 0.01578044487813301),\n",
       "  ('technique', 0.015779227796947255),\n",
       "  ('performance', 0.015652707462454295),\n",
       "  ('theoretical', 0.015239875092660624),\n",
       "  ('expected', 0.015140098611770498),\n",
       "  ('one', 0.015132293108355826),\n",
       "  ('non', 0.013463639968098231)],\n",
       " [('simulation', 0.06895891289088181),\n",
       "  ('optimization', 0.04909092248625539),\n",
       "  ('framework', 0.04555516189973181),\n",
       "  ('computational', 0.032422971614550045),\n",
       "  ('workshop', 0.029552463502258167),\n",
       "  ('theory', 0.025997982459545876),\n",
       "  ('space', 0.02192260395102945),\n",
       "  ('complex', 0.020616204396717894),\n",
       "  ('proposed', 0.020509500448676377),\n",
       "  ('solution', 0.017609469553913078),\n",
       "  ('type', 0.017095708690043784),\n",
       "  ('resource', 0.017027387921640574),\n",
       "  ('technique', 0.01591067148212347),\n",
       "  ('mathematical', 0.015802355415773583),\n",
       "  ('via', 0.01571787450121138),\n",
       "  ('performance', 0.0154599588769654),\n",
       "  ('one', 0.015199195013194554),\n",
       "  ('theoretical', 0.015180728600494018),\n",
       "  ('expected', 0.015119249476446642),\n",
       "  ('non', 0.013541070896259931)],\n",
       " [('simulation', 0.06867575037794081),\n",
       "  ('optimization', 0.05038697699986517),\n",
       "  ('framework', 0.047059129325824),\n",
       "  ('computational', 0.033134076910349516),\n",
       "  ('workshop', 0.029161609239648625),\n",
       "  ('theory', 0.02561073771840783),\n",
       "  ('space', 0.022056824199577524),\n",
       "  ('complex', 0.020562817225174106),\n",
       "  ('proposed', 0.01992467575644981),\n",
       "  ('solution', 0.0176302460665139),\n",
       "  ('resource', 0.017137261685904178),\n",
       "  ('type', 0.016999646481086254),\n",
       "  ('technique', 0.016024652551487224),\n",
       "  ('mathematical', 0.015715965959895935),\n",
       "  ('via', 0.015681488144638524),\n",
       "  ('one', 0.015293759330592412),\n",
       "  ('performance', 0.015277886457495126),\n",
       "  ('theoretical', 0.015144667589099258),\n",
       "  ('expected', 0.015124590425585543),\n",
       "  ('non', 0.013639963444493731)],\n",
       " [('simulation', 0.06904819737658661),\n",
       "  ('optimization', 0.05080544306951822),\n",
       "  ('framework', 0.0486960080867884),\n",
       "  ('computational', 0.03401116501868649),\n",
       "  ('workshop', 0.02890603942102864),\n",
       "  ('theory', 0.025355102282285356),\n",
       "  ('space', 0.0223198165723284),\n",
       "  ('complex', 0.020615461817277858),\n",
       "  ('proposed', 0.019468665609700817),\n",
       "  ('solution', 0.017559595809745875),\n",
       "  ('resource', 0.01727275419572673),\n",
       "  ('type', 0.01687402341111652),\n",
       "  ('technique', 0.016003644434889143),\n",
       "  ('mathematical', 0.01569622911191506),\n",
       "  ('via', 0.015694952297016507),\n",
       "  ('one', 0.01543723253839486),\n",
       "  ('expected', 0.015188920588903533),\n",
       "  ('performance', 0.015109730910426007),\n",
       "  ('theoretical', 0.014922404350796304),\n",
       "  ('non', 0.013463454079542605)],\n",
       " [('simulation', 0.06945267150261512),\n",
       "  ('optimization', 0.05051483599478743),\n",
       "  ('framework', 0.049803609387930964),\n",
       "  ('computational', 0.03399412455314696),\n",
       "  ('workshop', 0.029030575720810723),\n",
       "  ('theory', 0.025232722045161797),\n",
       "  ('space', 0.022400054699874616),\n",
       "  ('complex', 0.02071994409881351),\n",
       "  ('proposed', 0.019218132180250994),\n",
       "  ('solution', 0.017582940980027228),\n",
       "  ('resource', 0.01740696427272131),\n",
       "  ('type', 0.016894416692735365),\n",
       "  ('technique', 0.015987756557287423),\n",
       "  ('via', 0.015837238053883738),\n",
       "  ('mathematical', 0.015733549761385256),\n",
       "  ('one', 0.015532776724353502),\n",
       "  ('expected', 0.015220704641941852),\n",
       "  ('performance', 0.015028419047028315),\n",
       "  ('theoretical', 0.014818093726679287),\n",
       "  ('non', 0.013385428159008308)],\n",
       " [('simulation', 0.07013511386413807),\n",
       "  ('framework', 0.05051175402723098),\n",
       "  ('optimization', 0.05040335381606272),\n",
       "  ('computational', 0.0338034144573766),\n",
       "  ('workshop', 0.0290554340491938),\n",
       "  ('theory', 0.025169590058630426),\n",
       "  ('space', 0.022565189606501206),\n",
       "  ('complex', 0.020882179533899554),\n",
       "  ('proposed', 0.019002871812074308),\n",
       "  ('solution', 0.01765069983069616),\n",
       "  ('resource', 0.017531133300959394),\n",
       "  ('type', 0.016929072553173226),\n",
       "  ('technique', 0.015930315610386818),\n",
       "  ('mathematical', 0.01581155894626422),\n",
       "  ('via', 0.0158080217329051),\n",
       "  ('one', 0.015635522912898613),\n",
       "  ('expected', 0.015288399320318934),\n",
       "  ('performance', 0.014968186187445874),\n",
       "  ('theoretical', 0.014742182509401972),\n",
       "  ('non', 0.01333404480198003)],\n",
       " [('simulation', 0.0714623218546645),\n",
       "  ('framework', 0.051006026844700056),\n",
       "  ('optimization', 0.050020324502453195),\n",
       "  ('computational', 0.03361040566335599),\n",
       "  ('workshop', 0.029175202338832956),\n",
       "  ('theory', 0.0251792577787319),\n",
       "  ('space', 0.02278319545626274),\n",
       "  ('complex', 0.02107638465784948),\n",
       "  ('proposed', 0.018834354886707115),\n",
       "  ('solution', 0.01766961196694777),\n",
       "  ('resource', 0.017390555542388834),\n",
       "  ('type', 0.01693210388261966),\n",
       "  ('mathematical', 0.015903981891719977),\n",
       "  ('technique', 0.0159032809654788),\n",
       "  ('via', 0.015733289797954016),\n",
       "  ('one', 0.015643958071313007),\n",
       "  ('expected', 0.015385071537848247),\n",
       "  ('performance', 0.014881286718278704),\n",
       "  ('theoretical', 0.014643209697727396),\n",
       "  ('number', 0.013293857509543804)],\n",
       " [('simulation', 0.07326565362145043),\n",
       "  ('framework', 0.05165087470592277),\n",
       "  ('optimization', 0.0495928735757151),\n",
       "  ('computational', 0.0335248147647538),\n",
       "  ('workshop', 0.02899792473344746),\n",
       "  ('theory', 0.025152493159800025),\n",
       "  ('space', 0.022849010722967966),\n",
       "  ('complex', 0.021144444146775316),\n",
       "  ('proposed', 0.018724846613977143),\n",
       "  ('solution', 0.017615573036505974),\n",
       "  ('resource', 0.01729230454156285),\n",
       "  ('type', 0.016919223662334698),\n",
       "  ('mathematical', 0.01585474736388508),\n",
       "  ('technique', 0.015830809783359375),\n",
       "  ('via', 0.01565735862709957),\n",
       "  ('one', 0.015612735882867308),\n",
       "  ('expected', 0.01547280928007195),\n",
       "  ('performance', 0.014807846974766626),\n",
       "  ('theoretical', 0.014570496309823938),\n",
       "  ('number', 0.013291093859754853)],\n",
       " [('simulation', 0.07320721982584608),\n",
       "  ('framework', 0.05180237486171398),\n",
       "  ('optimization', 0.04947561042657582),\n",
       "  ('computational', 0.03348811512428716),\n",
       "  ('workshop', 0.02899257800431164),\n",
       "  ('theory', 0.02520867344223233),\n",
       "  ('space', 0.022946906689227452),\n",
       "  ('complex', 0.021132991941596024),\n",
       "  ('proposed', 0.01870893538426828),\n",
       "  ('solution', 0.017615332101433765),\n",
       "  ('resource', 0.017277418528926686),\n",
       "  ('type', 0.0169352390825915),\n",
       "  ('mathematical', 0.01586818539256908),\n",
       "  ('technique', 0.01582873528751065),\n",
       "  ('via', 0.015648924286610633),\n",
       "  ('one', 0.015603076964169368),\n",
       "  ('expected', 0.015489620914411513),\n",
       "  ('performance', 0.014797933714626389),\n",
       "  ('theoretical', 0.014559693832336153),\n",
       "  ('number', 0.013282875449141862)]]"
      ]
     },
     "execution_count": 93,
     "metadata": {},
     "output_type": "execute_result"
    }
   ],
   "source": [
    "#how to see a topic over time\n",
    "topic_num = 0\n",
    "model.print_topic_times(topic=topic_num) #list of top k words for topic over time"
   ]
  },
  {
   "cell_type": "code",
   "execution_count": 132,
   "metadata": {},
   "outputs": [
    {
     "data": {
      "text/plain": [
       "array([2.16785068e-01, 7.09219858e-04, 7.09219858e-04, 7.09219858e-04,\n",
       "       7.09219858e-04, 7.09219858e-04, 7.09219858e-04, 7.09219858e-04,\n",
       "       7.09219858e-04, 7.77541173e-01])"
      ]
     },
     "execution_count": 132,
     "metadata": {},
     "output_type": "execute_result"
    }
   ],
   "source": [
    "#infer topics for a document\n",
    "model.doc_topics(0)"
   ]
  },
  {
   "cell_type": "code",
   "execution_count": 59,
   "metadata": {},
   "outputs": [
    {
     "name": "stdout",
     "output_type": "stream",
     "text": [
      "['__class__', '__delattr__', '__dict__', '__dir__', '__doc__', '__eq__', '__format__', '__ge__', '__getattribute__', '__getitem__', '__gt__', '__hash__', '__init__', '__init_subclass__', '__le__', '__lt__', '__module__', '__ne__', '__new__', '__reduce__', '__reduce_ex__', '__repr__', '__setattr__', '__sizeof__', '__str__', '__subclasshook__', '__weakref__', '_adapt_by_suffix', '_load_specials', '_save_specials', '_smart_save', 'alphas', 'corpus_len', 'doc_topics', 'dtm_coherence', 'dtm_vis', 'fit_lda_seq', 'fit_lda_seq_topics', 'gammas', 'id2word', 'inferDTMseq', 'influence', 'influence_sum_lgl', 'init_ldaseq_ss', 'lda_seq_infer', 'load', 'make_lda_seq_slice', 'max_doc_len', 'num_time_slices', 'num_topics', 'print_topic', 'print_topic_times', 'print_topics', 'renormalized_influence', 'save', 'sstats', 'time_slice', 'top_doc_phis', 'topic_chains', 'vocab_len']\n"
     ]
    }
   ],
   "source": [
    "print(dir(model))"
   ]
  },
  {
   "cell_type": "code",
   "execution_count": 170,
   "metadata": {},
   "outputs": [
    {
     "data": {
      "text/plain": [
       "[('simulation', 0.06352394746822891),\n",
       " ('framework', 0.03652212222700615),\n",
       " ('workshop', 0.0341913916853499),\n",
       " ('optimization', 0.03328908375364188),\n",
       " ('proposed', 0.030018489898984143),\n",
       " ('theory', 0.02960116034801896),\n",
       " ('computational', 0.027985073512027697),\n",
       " ('complex', 0.020252192133691876),\n",
       " ('space', 0.019226693232912623),\n",
       " ('solution', 0.01857567291576981),\n",
       " ('type', 0.01786720329586709),\n",
       " ('mathematical', 0.01750940976542643),\n",
       " ('performance', 0.016944609495230988),\n",
       " ('resource', 0.016914789425556184),\n",
       " ('theoretical', 0.015629313730677476),\n",
       " ('expected', 0.015272151066574213),\n",
       " ('one', 0.015250967723408906),\n",
       " ('technique', 0.015224722521532128),\n",
       " ('via', 0.014764776391471906),\n",
       " ('example', 0.014485221141370104)]"
      ]
     },
     "execution_count": 170,
     "metadata": {},
     "output_type": "execute_result"
    }
   ],
   "source": [
    "model.print_topics()[0] #[topic_num] #list of top k words for topic"
   ]
  },
  {
   "cell_type": "code",
   "execution_count": 128,
   "metadata": {},
   "outputs": [
    {
     "data": {
      "text/plain": [
       "array([2.24515257e-01, 7.09219858e-04, 7.09219858e-04, 7.09219858e-04,\n",
       "       7.09219858e-04, 7.09219858e-04, 7.09219858e-04, 7.09219858e-04,\n",
       "       7.09219858e-04, 7.69810984e-01])"
      ]
     },
     "execution_count": 128,
     "metadata": {},
     "output_type": "execute_result"
    }
   ],
   "source": [
    "#document embedding\n",
    "model[corpus[0]]"
   ]
  },
  {
   "cell_type": "markdown",
   "metadata": {},
   "source": [
    "# TODO\n",
    "- figure out how to get a visualization \n",
    "- how to assign dollars to each topic (would like this by year)\n",
    "- how to interpret topics\n",
    "- "
   ]
  }
 ],
 "metadata": {
  "kernelspec": {
   "display_name": "Python 3",
   "language": "python",
   "name": "python3"
  },
  "language_info": {
   "codemirror_mode": {
    "name": "ipython",
    "version": 3
   },
   "file_extension": ".py",
   "mimetype": "text/x-python",
   "name": "python",
   "nbconvert_exporter": "python",
   "pygments_lexer": "ipython3",
   "version": "3.9.1"
  },
  "orig_nbformat": 4
 },
 "nbformat": 4,
 "nbformat_minor": 2
}
