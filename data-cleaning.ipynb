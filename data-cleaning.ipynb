{
 "cells": [
  {
   "attachments": {},
   "cell_type": "markdown",
   "metadata": {},
   "source": [
    "# Data Cleaning\n",
    "This script is for processing and cleaning nsf award data. Award data appears to be organized by award and we've got about 4GB of data. \n",
    "\n",
    "Award files consists of a single XML file for each award and contains awards for many years (1959-2022). They seem to be inconsistently formatted but have an underlying static schema that is guaranteed to be present in each file. Let's take a look at that first to see what we are working with."
   ]
  },
  {
   "cell_type": "code",
   "execution_count": 1,
   "metadata": {},
   "outputs": [
    {
     "name": "stdout",
     "output_type": "stream",
     "text": [
      "Requirement already satisfied: nltk in c:\\users\\samael\\appdata\\local\\programs\\python\\python39\\lib\\site-packages (3.7)\n",
      "Requirement already satisfied: click in c:\\users\\samael\\appdata\\local\\programs\\python\\python39\\lib\\site-packages (from nltk) (8.1.3)\n",
      "Requirement already satisfied: regex>=2021.8.3 in c:\\users\\samael\\appdata\\local\\programs\\python\\python39\\lib\\site-packages (from nltk) (2022.9.11)\n",
      "Requirement already satisfied: tqdm in c:\\users\\samael\\appdata\\local\\programs\\python\\python39\\lib\\site-packages (from nltk) (4.64.1)\n",
      "Requirement already satisfied: joblib in c:\\users\\samael\\appdata\\local\\programs\\python\\python39\\lib\\site-packages (from nltk) (1.1.0)\n"
     ]
    },
    {
     "name": "stderr",
     "output_type": "stream",
     "text": [
      "\n",
      "[notice] A new release of pip available: 22.3.1 -> 23.1.2\n",
      "[notice] To update, run: python.exe -m pip install --upgrade pip\n"
     ]
    },
    {
     "name": "stdout",
     "output_type": "stream",
     "text": [
      "Requirement already satisfied: colorama in c:\\users\\samael\\appdata\\local\\programs\\python\\python39\\lib\\site-packages (from click->nltk) (0.4.6)\n"
     ]
    }
   ],
   "source": [
    "!python -m pip install nltk"
   ]
  },
  {
   "cell_type": "code",
   "execution_count": 2,
   "metadata": {},
   "outputs": [],
   "source": [
    "# libraries for data cleaning\n",
    "# for parsing xml data \n",
    "import xml.etree.ElementTree as ET\n",
    "import os \n",
    "\n",
    "# for data manipulation\n",
    "import pandas as pd \n",
    "import numpy as np\n",
    "\n",
    "#for text processing\n",
    "import nltk\n",
    "from nltk.corpus import stopwords\n",
    "from nltk.tokenize import word_tokenize\n",
    "from nltk.stem import WordNetLemmatizer\n",
    "import string\n",
    "import re\n",
    "\n",
    "# for data visualization\n",
    "import matplotlib.pyplot as plt\n",
    "from math import log10 "
   ]
  },
  {
   "cell_type": "code",
   "execution_count": 3,
   "metadata": {},
   "outputs": [
    {
     "name": "stderr",
     "output_type": "stream",
     "text": [
      "\n",
      "[notice] A new release of pip available: 22.3.1 -> 23.1.2\n",
      "[notice] To update, run: python.exe -m pip install --upgrade pip\n"
     ]
    },
    {
     "name": "stdout",
     "output_type": "stream",
     "text": [
      "Python 3.9.1\n"
     ]
    }
   ],
   "source": [
    "# for reproducibility\n",
    "!python -m pip list > requirements.txt\n",
    "!python --version\n",
    "#TODO add requirements.txt to github and strip down to only what is needed"
   ]
  },
  {
   "cell_type": "code",
   "execution_count": 4,
   "metadata": {},
   "outputs": [
    {
     "name": "stdout",
     "output_type": "stream",
     "text": [
      "<xs:schema xmlns:xs=\"http://www.w3.org/2001/XMLSchema\" attributeFormDefault=\"unqualified\" elementFormDefault=\"qualified\" version=\"1.0\">\n",
      "  <xs:element name=\"rootTag\">\n",
      "    <xs:complexType>\n",
      "      <xs:sequence>\n",
      "        \n",
      "        <xs:element name=\"Award\">\n",
      "          <xs:complexType>\n",
      "            <xs:sequence>\n",
      "              <xs:element name=\"AwardTitle\" type=\"xsd:string\" />\n",
      "              <xs:element name=\"AwardEffectiveDate\" type=\"xsd:dateTime\" />\n",
      "              <xs:element name=\"AwardExpirationDate\" type=\"xsd:dateTime\" />\n",
      "              <xs:element name=\"AwardAmount\" type=\"xsd:int\" />\n",
      "              \n",
      "              <xs:element name=\"AwardInstrument\">\n",
      "                <xs:complexType>\n",
      "                  <xs:sequence>\n",
      "                    <xs:element name=\"Value\" type=\"xsd:string\" />\n",
      "                  </xs:sequence>\n",
      "                </xs:complexType>\n",
      "              </xs:element>\n",
      "              \n",
      "              <xs:element name=\"Organization\">\n",
      "                <xs:complexType>\n",
      "                  <xs:sequence>\n",
      "                    <xs:element name=\"Code\" type=\"xsd:int\" />\n",
      "                    <xs:element name=\"Directorate\">\n",
      "                      <xs:complexType>\n",
      "                        <xs:sequence>\n",
      "                          <xs:element name=\"LongName\" type=\"xsd:string\" />\n",
      "                        </xs:sequence>\n",
      "                      </xs:complexType>\n",
      "                    </xs:element>\n",
      "                    <xs:element name=\"Division\">\n",
      "                      <xs:complexType>\n",
      "                        <xs:sequence>\n",
      "                          <xs:element name=\"LongName\" type=\"xsd:string\" />\n",
      "                        </xs:sequence>\n",
      "                      </xs:complexType>\n",
      "                    </xs:element>\n",
      "                  </xs:sequence>\n",
      "                </xs:complexType>\n",
      "              </xs:element>\n",
      "              \n",
      "              <xs:element name=\"ProgramOfficer\">\n",
      "                <xs:complexType>\n",
      "                  <xs:sequence>\n",
      "                    <xs:element name=\"SignBlockName\" type=\"xsd:string\" />\n",
      "                  </xs:sequence>\n",
      "                </xs:complexType>\n",
      "              </xs:element>\n",
      "              \n",
      "              <xs:element name=\"AbstractNarration\" type=\"xsd:string\" />\n",
      "              <xs:element name=\"MinAmdLetterDate\" type=\"xsd:dateTime\" />\n",
      "              <xs:element name=\"MaxAmdLetterDate\" type=\"xsd:dateTime\" />\n",
      "              <xs:element name=\"ARRAAmount\" type=\"xsd:string\" />\n",
      "              <xs:element name=\"AwardID\" type=\"xsd:int\" />\n",
      "              \n",
      "              <xs:element maxOccurs=\"unbounded\" name=\"Investigator\">\n",
      "                <xs:complexType>\n",
      "                  <xs:sequence>\n",
      "                    <xs:element name=\"FirstName\" type=\"xsd:string\" />\n",
      "                    <xs:element name=\"LastName\" type=\"xsd:string\" />\n",
      "                    <xs:element name=\"EmailAddress\" type=\"xsd:string\" />\n",
      "                    <xs:element name=\"StartDate\" type=\"xsd:dateTime\" />\n",
      "                    <xs:element name=\"EndDate\" type=\"xsd:string\" />\n",
      "                    <xs:element name=\"RoleCode\" type=\"xsd:int\" />\n",
      "                  </xs:sequence>\n",
      "                </xs:complexType>\n",
      "              </xs:element>\n",
      "              \n",
      "              <xs:element maxOccurs=\"unbounded\" name=\"Institution\">\n",
      "                <xs:complexType>\n",
      "                  <xs:sequence>\n",
      "                    <xs:element name=\"Name\" type=\"xsd:string\" />\n",
      "                    <xs:element name=\"CityName\" type=\"xsd:string\" />\n",
      "                    <xs:element name=\"ZipCode\" type=\"xsd:int\" />\n",
      "                    <xs:element name=\"PhoneNumber\" type=\"xsd:decimal\" />\n",
      "                    <xs:element name=\"StreetAddress\" type=\"xsd:string\" />\n",
      "                    <xs:element name=\"CountryName\" type=\"xsd:string\" />\n",
      "                    <xs:element name=\"StateName\" type=\"xsd:string\" />\n",
      "                    <xs:element name=\"StateCode\" type=\"xsd:string\" />\n",
      "                  </xs:sequence>\n",
      "                </xs:complexType>\n",
      "              </xs:element>\n",
      "              \n",
      "              <xs:element maxOccurs=\"unbounded\" name=\"FoaInformation\">\n",
      "                <xs:complexType>\n",
      "                  <xs:sequence>\n",
      "                    <xs:element name=\"Code\" type=\"xsd:int\" />\n",
      "                    <xs:element name=\"Name\" type=\"xsd:string\" />\n",
      "                  </xs:sequence>\n",
      "                </xs:complexType>\n",
      "              </xs:element>\n",
      "              \n",
      "              <xs:element maxOccurs=\"unbounded\" name=\"ProgramElement\">\n",
      "                <xs:complexType>\n",
      "                  <xs:sequence>\n",
      "                    <xs:element name=\"Code\" type=\"xsd:int\" />\n",
      "                    <xs:element name=\"Text\" type=\"xsd:string\" />\n",
      "                  </xs:sequence>\n",
      "                </xs:complexType>\n",
      "              </xs:element>\n",
      "              \n",
      "              <xs:element maxOccurs=\"unbounded\" name=\"ProgramReference\">\n",
      "\t        <xs:complexType>\n",
      "\t\t <xs:sequence>\n",
      "\t\t  <xs:element name=\"Code\" type=\"xsd:int\" />\n",
      "\t\t  <xs:element name=\"Text\" type=\"xsd:string\" />\n",
      "\t\t </xs:sequence>\n",
      "\t        </xs:complexType>\n",
      "              </xs:element>\n",
      "              \n",
      "              \n",
      "            </xs:sequence>\n",
      "          </xs:complexType>\n",
      "        </xs:element>\n",
      "      </xs:sequence>\n",
      "    </xs:complexType>\n",
      "  </xs:element>\n",
      "</xs:schema>\n"
     ]
    }
   ],
   "source": [
    "#take a look at the schema of the data\n",
    "ET.dump(ET.parse('Award.xsd').getroot())"
   ]
  },
  {
   "attachments": {},
   "cell_type": "markdown",
   "metadata": {},
   "source": [
    "The important part is that there are dates, dollars (AwardAmount), and lots of textual data (AwardTitle, AbstractNarration). We can work with this. Let get this into a csv file and see how messy it is. "
   ]
  },
  {
   "cell_type": "code",
   "execution_count": 34,
   "metadata": {},
   "outputs": [
    {
     "name": "stdout",
     "output_type": "stream",
     "text": [
      "('1700009', 'Spectral Properties of Random Band Matrices and Related Questions', '119998', 'This research project intertwines mathematical and physics-related areas including matrix theory, probability, classical analysis and operator theory, as well as topics in physics such as quantum field theory and supersymmetry.  The method of supersymmetry is widely used in theoretical physics, especially in particle physics, but its rigorous mathematical foundation is still a challenge for mathematicians. The aim of the project is to develop a broad mathematical understanding of supersymmetry.&lt;br/&gt;&lt;br/&gt;More precisely, random band matrices (RBM) represent quantum systems on a d-dimensional lattice with random quantum transition amplitudes effective up to distances of some order W, which is called a bandwidth. They are natural intermediate models in the study eigenvalue statistics and quantum propagation of disordered systems;  they interpolate between Wigner random matrices and random Schrodinger operators. Wigner matrix ensembles represent models without spatial structure, where the quantum transition rates between any two sites are independent identically distributed random variables. In contrast, random Schrodinger operators have only a random diagonal potential in addition to the deterministic Laplacian on a large box in a d-dimensional lattice. The main feature of RBM is that they can be used to model the Anderson metal-insulator phase transition in three or more dimensions. It is conjectured that the crossover for RBM can be investigated even in dimension one by varying the bandwidth W; however, on a mathematical level of rigor the question is still open. The investigator is going to attack the problem using the supersymmetry approach in combination with powerful analytic and statistical mechanics techniques, including saddle point analysis, transfer operators, and multi-scale analysis.', 'Division Of Mathematical Sciences')\n",
      "('2100003', 'CI CoE: Demo Pilot: Advancing Research Computing and Data: Strategic Tools, Practices, and Professional Development', '1497243', \"Research is increasingly dependent upon Cyberinfrastructure (CI), from instruments and sensors to Research Computing and Data (RCD) infrastructure and services. High Performance Computing (HPC) is an important element, however RCD has expanded well beyond HPC into secure enclaves for data compliance; big data management, analytics, and movement; AI/machine learning; and more recently into heterogeneous compute models, edge computing, and cloud-based computing. Researchers are struggling to keep pace with the explosion of data and the rapid evolution of computing resources, and often lack the skills to make full use of emerging tools and techniques. Developing and maintaining the needed expertise takes valuable time from research and is often beyond the capacity of researchers; they must depend upon partners (RCD professionals) who combine technology expertise and an understanding of research workflows and researcher needs. Institutions face challenges recruiting and retaining RCD professional staff, and building effective RCD support services. This CI CoE Demonstration Pilot (RCD CoE) will develop an RCD Resource and Career Center to advance and enable the nation's capacity for computational and data-intensive research by providing institutions and individuals the products, tools, services, and community to build and sustain successful RCD operations.  The project will also provide expertise in the development of new RCD professionals, and provide a voice and a connector for the broad community and the profession at large. &lt;br/&gt;&lt;br/&gt;The RCD Resource and Career Center will build upon work that the NSF-supported Campus Research Computing Consortium (CaRCC) has done and continues to do to develop products and tools for effective RCD support. The Center will develop a robust and sustainable implementation of the RCD Capabilities Model that provides an assessment framework, support for benchmarking and strategic planning, and a community data set to understand the landscape of RCD support. The Center will expand and disseminate resources for RCD Professionalization, including support for adoption of an RCD Job Family Matrix to properly classify RCD professional roles and conducting a national census of RCD Professionals to characterize the current state of RCD staff and programs. The Center will create and disseminate a model of Career Arcs for RCD Professionals to explain career options and help existing RCD professionals explore professional development and advancement. Work in the project will aggregate resources for staff training and workforce development, including leading practices for recruitment, onboarding, advancing diversity, equity and inclusion (DEI), and professional development, as well as proven models for student internship and training programs. The pilot period and the community of communities will be used to facilitate the creation of a coordinating organization to connect all the relevant communities and to develop a shared voice for RCD professionals as the project plans for a full Center of Excellence.&lt;br/&gt;&lt;br/&gt;This award reflects NSF's statutory mission and has been deemed worthy of support through evaluation using the Foundation's intellectual merit and broader impacts review criteria.\", 'Office of Advanced Cyberinfrastructure (OAC)')\n"
     ]
    }
   ],
   "source": [
    "#iterate over a single file and extract the following information:\n",
    "# AbstractNarration\n",
    "# AwardAmount\n",
    "# AwardTitle\n",
    "# Directorates\n",
    "\n",
    "def extract_data(fpath):\n",
    "    \"\"\"Extracts the award_id, title, amount, and abstract from a single xml file\"\"\"\n",
    "    tree = ET.parse(fpath)\n",
    "    root = tree.getroot()\n",
    "    award = root.find('Award')\n",
    "    division = award.find('Organization').find(\"Division\").find(\"LongName\").text\n",
    "    \n",
    "    amount = award.find('AwardAmount').text\n",
    "    title = award.find('AwardTitle').text\n",
    "    abstract = award.find('AbstractNarration').text\n",
    "    award_id = award.find('AwardID').text\n",
    "\n",
    "    return award_id, title, amount, abstract, division\n",
    "\n"
   ]
  },
  {
   "cell_type": "code",
   "execution_count": 35,
   "metadata": {},
   "outputs": [
    {
     "name": "stdout",
     "output_type": "stream",
     "text": [
      "('1700009', 'Spectral Properties of Random Band Matrices and Related Questions', '119998', 'This research project intertwines mathematical and physics-related areas including matrix theory, probability, classical analysis and operator theory, as well as topics in physics such as quantum field theory and supersymmetry.  The method of supersymmetry is widely used in theoretical physics, especially in particle physics, but its rigorous mathematical foundation is still a challenge for mathematicians. The aim of the project is to develop a broad mathematical understanding of supersymmetry.&lt;br/&gt;&lt;br/&gt;More precisely, random band matrices (RBM) represent quantum systems on a d-dimensional lattice with random quantum transition amplitudes effective up to distances of some order W, which is called a bandwidth. They are natural intermediate models in the study eigenvalue statistics and quantum propagation of disordered systems;  they interpolate between Wigner random matrices and random Schrodinger operators. Wigner matrix ensembles represent models without spatial structure, where the quantum transition rates between any two sites are independent identically distributed random variables. In contrast, random Schrodinger operators have only a random diagonal potential in addition to the deterministic Laplacian on a large box in a d-dimensional lattice. The main feature of RBM is that they can be used to model the Anderson metal-insulator phase transition in three or more dimensions. It is conjectured that the crossover for RBM can be investigated even in dimension one by varying the bandwidth W; however, on a mathematical level of rigor the question is still open. The investigator is going to attack the problem using the supersymmetry approach in combination with powerful analytic and statistical mechanics techniques, including saddle point analysis, transfer operators, and multi-scale analysis.', 'Division Of Mathematical Sciences')\n",
      "('2100003', 'CI CoE: Demo Pilot: Advancing Research Computing and Data: Strategic Tools, Practices, and Professional Development', '1497243', \"Research is increasingly dependent upon Cyberinfrastructure (CI), from instruments and sensors to Research Computing and Data (RCD) infrastructure and services. High Performance Computing (HPC) is an important element, however RCD has expanded well beyond HPC into secure enclaves for data compliance; big data management, analytics, and movement; AI/machine learning; and more recently into heterogeneous compute models, edge computing, and cloud-based computing. Researchers are struggling to keep pace with the explosion of data and the rapid evolution of computing resources, and often lack the skills to make full use of emerging tools and techniques. Developing and maintaining the needed expertise takes valuable time from research and is often beyond the capacity of researchers; they must depend upon partners (RCD professionals) who combine technology expertise and an understanding of research workflows and researcher needs. Institutions face challenges recruiting and retaining RCD professional staff, and building effective RCD support services. This CI CoE Demonstration Pilot (RCD CoE) will develop an RCD Resource and Career Center to advance and enable the nation's capacity for computational and data-intensive research by providing institutions and individuals the products, tools, services, and community to build and sustain successful RCD operations.  The project will also provide expertise in the development of new RCD professionals, and provide a voice and a connector for the broad community and the profession at large. &lt;br/&gt;&lt;br/&gt;The RCD Resource and Career Center will build upon work that the NSF-supported Campus Research Computing Consortium (CaRCC) has done and continues to do to develop products and tools for effective RCD support. The Center will develop a robust and sustainable implementation of the RCD Capabilities Model that provides an assessment framework, support for benchmarking and strategic planning, and a community data set to understand the landscape of RCD support. The Center will expand and disseminate resources for RCD Professionalization, including support for adoption of an RCD Job Family Matrix to properly classify RCD professional roles and conducting a national census of RCD Professionals to characterize the current state of RCD staff and programs. The Center will create and disseminate a model of Career Arcs for RCD Professionals to explain career options and help existing RCD professionals explore professional development and advancement. Work in the project will aggregate resources for staff training and workforce development, including leading practices for recruitment, onboarding, advancing diversity, equity and inclusion (DEI), and professional development, as well as proven models for student internship and training programs. The pilot period and the community of communities will be used to facilitate the creation of a coordinating organization to connect all the relevant communities and to develop a shared voice for RCD professionals as the project plans for a full Center of Excellence.&lt;br/&gt;&lt;br/&gt;This award reflects NSF's statutory mission and has been deemed worthy of support through evaluation using the Foundation's intellectual merit and broader impacts review criteria.\", 'Office of Advanced Cyberinfrastructure (OAC)')\n",
      "('2120701', 'MCA: Fabrication of Structural Organic Supercapacitors', '380033', \"Energy storage devices that offer fast charging and long lifetime are essential for powering wireless electronics in our daily lives. This award supports fundamental research on energy storage technologies based on structural supercapacitors, which will potentially provide high peak power for rapid charging and extend device lifetime to minimize maintenance costs. Structural supercapacitors are multi-functional devices that integrates mechanical and electrochemical functions, reducing weight and maximizing the use of structural space to increase the available energy capacity. However, there are knowledge gaps on how to design and fabricate this class of devices. This project will contribute new knowledge related to electrodeposition processing that enables precise tuning of materials and device structures to attain unprecedented energy density and mechanical strength in a new generation of structural supercapacitors.  The research and outreach activities will engage under-represented students and foster the training and development of a future diverse workforce that works towards energy sustainability, promoting our national welfare and prosperity.&lt;br/&gt;&lt;br/&gt;The goal of this research is to precisely create hierarchical composites and attain the desired mechanical and electrochemical attributes by building on uniquely stable redox polymers and scalable electrodeposition techniques. The research team will establish systematic design principles for the cell subcomponents (electrodes and electrolytes) and, when the cell is put together, examine the entire structure by ultrasound diagnostics to understand interfacial interactions and evaluate the cell multifunctional efficiency. Non-destructive, low-cost ultrasound techniques will directly probe the device mechanical properties and reveal their changes over time, particularly to identify chemical versus structural degradation mechanisms that must be mitigated to achieve long cycle life and highly durable systems. This project merges the fields of electrochemical storage with material mechanics in convergence research, to deliver structure-processing-property relationships for organic structural supercapacitors and a blueprint for practical fabrication processes compatible with manufacturing in the future. The project will also allow the principal investigator to enhance her research program through partnerships with investigators at other institutions, building expertise to address the challenges of fabricating structural energy storage devices.&lt;br/&gt;&lt;br/&gt;This award reflects NSF's statutory mission and has been deemed worthy of support through evaluation using the Foundation's intellectual merit and broader impacts review criteria.\", 'Div Of Civil, Mechanical, & Manufact Inn')\n"
     ]
    }
   ],
   "source": [
    "#testing the function\n",
    "print(extract_data('data/raw-data/2017/1700009.xml'))\n",
    "print(extract_data('data/raw-data/2021/2100003.xml'))\n",
    "print(extract_data('data/raw-data/2021/2120701.xml'))"
   ]
  },
  {
   "cell_type": "code",
   "execution_count": 36,
   "metadata": {},
   "outputs": [
    {
     "name": "stdout",
     "output_type": "stream",
     "text": [
      "working on year: 2000\n",
      "total files processed: 10000\n",
      "working on year: 2001\n",
      "total files processed: 20000\n",
      "working on year: 2002\n",
      "total files processed: 30000\n",
      "working on year: 2003\n",
      "total files processed: 40000\n",
      "working on year: 2004\n",
      "total files processed: 50000\n",
      "working on year: 2005\n",
      "total files processed: 60000\n",
      "working on year: 2006\n",
      "total files processed: 70000\n",
      "working on year: 2007\n",
      "total files processed: 80000\n",
      "working on year: 2008\n",
      "total files processed: 90000\n",
      "total files processed: 100000\n",
      "working on year: 2009\n",
      "total files processed: 110000\n",
      "working on year: 2010\n",
      "total files processed: 120000\n",
      "working on year: 2011\n",
      "total files processed: 130000\n",
      "total files processed: 140000\n",
      "working on year: 2012\n",
      "total files processed: 150000\n",
      "working on year: 2013\n",
      "total files processed: 160000\n",
      "working on year: 2014\n",
      "total files processed: 170000\n",
      "working on year: 2015\n",
      "total files processed: 180000\n",
      "working on year: 2016\n",
      "total files processed: 190000\n",
      "total files processed: 200000\n",
      "working on year: 2017\n",
      "total files processed: 210000\n",
      "working on year: 2018\n",
      "total files processed: 220000\n",
      "working on year: 2019\n",
      "total files processed: 230000\n",
      "working on year: 2020\n",
      "total files processed: 240000\n",
      "total files processed: 250000\n",
      "working on year: 2021\n",
      "total files processed: 260000\n"
     ]
    }
   ],
   "source": [
    "#iterate over all files in the data directory and extract the data #this can take a few mins\n",
    "data = []\n",
    "bad_files = []\n",
    "count = 0\n",
    "\n",
    "for year in os.listdir('data/raw-data/'):\n",
    "    print(f\"working on year: {year}\")\n",
    "    for f in os.listdir(f'data/raw-data/{year}'):\n",
    "        fpath = f'data/raw-data/{year}/{f}'\n",
    "        try:\n",
    "            data.append(extract_data(fpath))\n",
    "            count += 1\n",
    "\n",
    "            if count % 10000 == 0:\n",
    "                print(f\"total files processed: {count}\")\n",
    "        except: \n",
    "            bad_files.append(fpath)\n"
   ]
  },
  {
   "cell_type": "code",
   "execution_count": 37,
   "metadata": {},
   "outputs": [
    {
     "name": "stdout",
     "output_type": "stream",
     "text": [
      "total files processed: 265152\n",
      "total files not processed: 27\n",
      "['data/raw-data/2008/0834750.xml', 'data/raw-data/2008/0840444.xml', 'data/raw-data/2009/0917266.xml', 'data/raw-data/2010/1022648.xml', 'data/raw-data/2010/1028076.xml', 'data/raw-data/2010/1066456.xml', 'data/raw-data/2011/1111766.xml', 'data/raw-data/2011/1116739.xml', 'data/raw-data/2011/1117597.xml']\n"
     ]
    }
   ],
   "source": [
    "#see how many files were processed\n",
    "print(f\"total files processed: {count}\")\n",
    "\n",
    "#see how many files were not processed\n",
    "print(f\"total files not processed: {len(bad_files)}\")\n",
    "\n",
    "#see what the bad files look like\n",
    "print(bad_files[-9:])\n",
    "\n"
   ]
  },
  {
   "attachments": {},
   "cell_type": "markdown",
   "metadata": {},
   "source": [
    "Only 27 files not processed so just skip them."
   ]
  },
  {
   "cell_type": "code",
   "execution_count": 58,
   "metadata": {},
   "outputs": [
    {
     "name": "stdout",
     "output_type": "stream",
     "text": [
      "size of data is 0.783151583 GB\n"
     ]
    }
   ],
   "source": [
    "#produce a pandas dataframe from the data\n",
    "df = pd.DataFrame(data, columns=['award_id', 'title', 'amount', 'abstract', 'division'])\n",
    "\n",
    "#get size of data in GB\n",
    "print(f\"size of data is {df.memory_usage(deep=True).sum() / 1e9} GB\")"
   ]
  },
  {
   "cell_type": "code",
   "execution_count": 59,
   "metadata": {},
   "outputs": [
    {
     "name": "stdout",
     "output_type": "stream",
     "text": [
      "award_id       0\n",
      "title          3\n",
      "amount         1\n",
      "abstract    4058\n",
      "division       0\n",
      "dtype: int64\n"
     ]
    }
   ],
   "source": [
    "#what's missing from the data\n",
    "print(df.isna().sum())"
   ]
  },
  {
   "cell_type": "code",
   "execution_count": 60,
   "metadata": {},
   "outputs": [
    {
     "data": {
      "text/plain": [
       "['Arctic Sciences Division',\n",
       " 'Budget Division',\n",
       " 'CISE Information Technology Research',\n",
       " 'DIVISION OF EDUCATIONAL SYSTEM REFORM',\n",
       " 'DIVISION OF EXPERIMENTAL & INTEG ACTIVIT',\n",
       " 'Direct For Biological Sciences',\n",
       " 'Direct For Computer & Info Scie & Enginr',\n",
       " 'Direct For Mathematical & Physical Scien',\n",
       " 'Direct For Social, Behav & Economic Scie',\n",
       " 'Directorate For Engineering',\n",
       " 'Directorate For Geosciences',\n",
       " 'Directorate for STEM Education',\n",
       " 'Div Atmospheric & Geospace Sciences',\n",
       " 'Div Of Biological Infrastructure',\n",
       " 'Div Of Chem, Bioeng, Env, & Transp Sys',\n",
       " 'Div Of Civil, Mechanical, & Manufact Inn',\n",
       " 'Div Of Electrical, Commun & Cyber Sys',\n",
       " 'Div Of Elem Secondary & Informal Sci Ed',\n",
       " 'Div Of Engineering Education and Centers',\n",
       " 'Div Of Industrial Innovation & Partnersh',\n",
       " 'Div Of Information & Intelligent Systems',\n",
       " 'Div Of Molecular and Cellular Bioscience',\n",
       " 'Div Of Rsch, Evaluation and Communicatio',\n",
       " 'Div of Res, Innovation, Synergies, & Edu',\n",
       " 'Div. of Equity for Excellence in STEM',\n",
       " 'Division Of Administrative Services',\n",
       " 'Division Of Astronomical Sciences',\n",
       " 'Division Of Behavioral and Cognitive Sci',\n",
       " 'Division Of Chemistry',\n",
       " 'Division Of Computer and Network Systems',\n",
       " 'Division Of Design & Manufacturing Innov',\n",
       " 'Division Of Earth Sciences',\n",
       " 'Division Of Environmental Biology',\n",
       " 'Division Of Graduate Education',\n",
       " 'Division Of Human Resource Development',\n",
       " 'Division Of Human Resource Management',\n",
       " 'Division Of Information Systems',\n",
       " 'Division Of Integrative Organismal Sys',\n",
       " 'Division Of Integrative Organismal Systems',\n",
       " 'Division Of Materials Research',\n",
       " 'Division Of Mathematical Sciences',\n",
       " 'Division Of Ocean Sciences',\n",
       " 'Division Of Physics',\n",
       " 'Division Of Polar Programs',\n",
       " 'Division Of Polar Progrms',\n",
       " 'Division Of Research On Learning',\n",
       " 'Division Of Undergraduate Education',\n",
       " 'Division of Acquisition & Cooperative Support',\n",
       " 'Division of Behavioral and Cognitive Sciences',\n",
       " 'Division of Computing and Communication Foundations',\n",
       " 'Division of Financial Management',\n",
       " 'Division of Grants and Agreements',\n",
       " 'Division of Institution & Award Support',\n",
       " 'Division of Ocean Sciences',\n",
       " 'Division of Polar Programs',\n",
       " 'Divn Of Social and Economic Sciences',\n",
       " 'EPSCoR',\n",
       " 'Emerging Frontiers',\n",
       " 'Emerging Frontiers & Multidisciplinary Activities',\n",
       " 'General Counsel',\n",
       " 'ICER',\n",
       " 'Innovation and Technology Ecosystems',\n",
       " 'Large Facilities Office',\n",
       " 'MPS Multidisciplinary Activities',\n",
       " 'National Center For S&E Statistics',\n",
       " 'National Center for Science and Engineering Statistics.',\n",
       " 'National Coordination Office',\n",
       " 'National Science Board',\n",
       " 'Natl Nanotechnology Coordinating Office',\n",
       " 'OECR-Office of Equity & Civil Rights',\n",
       " 'OIA-Office of Integrative Activities',\n",
       " 'Office Of Information & Resource Mgmt',\n",
       " 'Office Of Inspector General',\n",
       " 'Office Of Internatl Science &Engineering',\n",
       " 'Office Of Legislative & Public Affairs',\n",
       " 'Office Of The Director',\n",
       " 'Office of Advanced Cyberinfrastructure (OAC)',\n",
       " 'Office of Budget, Finance, & Award Management',\n",
       " 'Office of Integrative Activities',\n",
       " 'Office of Polar Programs',\n",
       " 'Office of Polar Programs (OPP)',\n",
       " 'RISE',\n",
       " 'SBE Off Of Multidisciplinary Activities',\n",
       " 'Translational Impacts']"
      ]
     },
     "execution_count": 60,
     "metadata": {},
     "output_type": "execute_result"
    }
   ],
   "source": [
    "#unique divisions\n",
    "sorted(df['division'].unique())"
   ]
  },
  {
   "cell_type": "code",
   "execution_count": 61,
   "metadata": {},
   "outputs": [
    {
     "data": {
      "text/plain": [
       "<AxesSubplot:>"
      ]
     },
     "execution_count": 61,
     "metadata": {},
     "output_type": "execute_result"
    },
    {
     "data": {
      "image/png": "[encoded data removed]",
      "text/plain": [
       "<Figure size 432x288 with 1 Axes>"
      ]
     },
     "metadata": {
      "needs_background": "light"
     },
     "output_type": "display_data"
    }
   ],
   "source": [
    "#look at award amounts on a log scale\n",
    "df['amount'] = df['amount'].astype(float)\n",
    "df['amount'].apply(lambda x:log10(abs(x)+1) if x is not None else 0).hist(bins=100)"
   ]
  },
  {
   "cell_type": "code",
   "execution_count": 62,
   "metadata": {},
   "outputs": [
    {
     "data": {
      "text/plain": [
       "<AxesSubplot:>"
      ]
     },
     "execution_count": 62,
     "metadata": {},
     "output_type": "execute_result"
    },
    {
     "data": {
      "image/png": "[encoded data removed]",
      "text/plain": [
       "<Figure size 432x288 with 1 Axes>"
      ]
     },
     "metadata": {
      "needs_background": "light"
     },
     "output_type": "display_data"
    }
   ],
   "source": [
    "#look at abstract lengths.\n",
    "df['abstract'].apply(lambda x:len(x) if x is not None else 0).hist(bins=1000)"
   ]
  },
  {
   "cell_type": "code",
   "execution_count": 63,
   "metadata": {},
   "outputs": [
    {
     "data": {
      "text/plain": [
       "<AxesSubplot:>"
      ]
     },
     "execution_count": 63,
     "metadata": {},
     "output_type": "execute_result"
    },
    {
     "data": {
      "image/png": "[encoded data removed]",
      "text/plain": [
       "<Figure size 432x288 with 1 Axes>"
      ]
     },
     "metadata": {
      "needs_background": "light"
     },
     "output_type": "display_data"
    }
   ],
   "source": [
    "#look at title lengths\n",
    "df['title'].apply(lambda x:len(x) if x is not None else 0).hist(bins=50)"
   ]
  },
  {
   "cell_type": "code",
   "execution_count": 64,
   "metadata": {},
   "outputs": [
    {
     "name": "stdout",
     "output_type": "stream",
     "text": [
      "retained 87.54% of rows\n"
     ]
    }
   ],
   "source": [
    "old_size = df.shape[0]\n",
    "\n",
    "#will remove missing rows, awards below $30000, and abstracts below 20 characters\n",
    "df = df.dropna()\n",
    "\n",
    "#remove awards below $30000\n",
    "df = df[df['amount'] > 30000]\n",
    "\n",
    "#remove abstracts below 20 characters\n",
    "df = df[df['abstract'].apply(lambda x:len(x) if x is not None else 0) > 20]\n",
    "\n",
    "print(f\"retained { round(df.shape[0]/old_size*100,ndigits=2) }% of rows\")"
   ]
  },
  {
   "cell_type": "code",
   "execution_count": 65,
   "metadata": {},
   "outputs": [],
   "source": [
    "#clean up the abstracts\n",
    "#general preprocessing\n",
    "\n",
    "#lowercase\n",
    "df['abstract'] = df['abstract'].apply(lambda x: x.lower())\n",
    "\n",
    "#remove numbers\n",
    "df['abstract'] = df['abstract'].apply(lambda x: re.sub(r'\\d+', '', x))\n",
    "\n",
    "#remove words that are less than 3 characters\n",
    "df['abstract'] = df['abstract'].apply(lambda x: ' '.join([word for word in x.split() if len(word) > 2]))\n",
    "\n",
    "#remove words that are greater than 40 characters\n",
    "df['abstract'] = df['abstract'].apply(lambda x: ' '.join([word for word in x.split() if len(word) < 41]))"
   ]
  },
  {
   "attachments": {},
   "cell_type": "markdown",
   "metadata": {},
   "source": [
    "Other preprocessing are task specific (stemming, lemmatization, etc). So will save data as-is for later use."
   ]
  },
  {
   "cell_type": "code",
   "execution_count": null,
   "metadata": {},
   "outputs": [],
   "source": []
  },
  {
   "cell_type": "code",
   "execution_count": 66,
   "metadata": {},
   "outputs": [],
   "source": [
    "#save to csv file\n",
    "df.to_csv('data/cleaned_data.csv', index=False)"
   ]
  }
 ],
 "metadata": {
  "kernelspec": {
   "display_name": "Python 3",
   "language": "python",
   "name": "python3"
  },
  "language_info": {
   "codemirror_mode": {
    "name": "ipython",
    "version": 3
   },
   "file_extension": ".py",
   "mimetype": "text/x-python",
   "name": "python",
   "nbconvert_exporter": "python",
   "pygments_lexer": "ipython3",
   "version": "3.9.1"
  },
  "orig_nbformat": 4
 },
 "nbformat": 4,
 "nbformat_minor": 2
}
